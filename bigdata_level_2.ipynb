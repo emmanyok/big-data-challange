{
  "cells": [
    {
      "cell_type": "code",
      "execution_count": null,
      "metadata": {
        "colab": {
          "base_uri": "https://localhost:8080/"
        },
        "id": "K1ZvblKstqmq",
        "outputId": "05b42c45-b5c3-42f8-b72d-48f08302bc7b"
      },
      "outputs": [
        {
          "name": "stdout",
          "output_type": "stream",
          "text": [
            "\r0% [Working]\r            \rHit:1 https://cloud.r-project.org/bin/linux/ubuntu bionic-cran40/ InRelease\n",
            "\r0% [Waiting for headers] [Waiting for headers] [Waiting for headers] [Connectin\r0% [1 InRelease gpgv 3,626 B] [Waiting for headers] [Waiting for headers] [Wait\r                                                                               \rIgn:2 https://developer.download.nvidia.com/compute/machine-learning/repos/ubuntu1804/x86_64  InRelease\n",
            "\r0% [1 InRelease gpgv 3,626 B] [Waiting for headers] [Waiting for headers] [Wait\r                                                                               \rHit:3 http://archive.ubuntu.com/ubuntu bionic InRelease\n",
            "\r0% [1 InRelease gpgv 3,626 B] [Waiting for headers] [Waiting for headers] [Wait\r                                                                               \rGet:4 http://security.ubuntu.com/ubuntu bionic-security InRelease [88.7 kB]\n",
            "\r0% [1 InRelease gpgv 3,626 B] [Waiting for headers] [4 InRelease 14.2 kB/88.7 k\r                                                                               \rHit:5 https://developer.download.nvidia.com/compute/cuda/repos/ubuntu1804/x86_64  InRelease\n",
            "\r0% [1 InRelease gpgv 3,626 B] [Waiting for headers] [4 InRelease 14.2 kB/88.7 k\r                                                                               \rHit:6 https://developer.download.nvidia.com/compute/machine-learning/repos/ubuntu1804/x86_64  Release\n",
            "\r0% [1 InRelease gpgv 3,626 B] [Waiting for headers] [4 InRelease 14.2 kB/88.7 k\r                                                                               \rGet:7 http://archive.ubuntu.com/ubuntu bionic-updates InRelease [88.7 kB]\n",
            "Hit:8 http://ppa.launchpad.net/c2d4u.team/c2d4u4.0+/ubuntu bionic InRelease\n",
            "Get:9 http://archive.ubuntu.com/ubuntu bionic-backports InRelease [83.3 kB]\n",
            "Hit:10 http://ppa.launchpad.net/cran/libgit2/ubuntu bionic InRelease\n",
            "Hit:11 http://ppa.launchpad.net/deadsnakes/ppa/ubuntu bionic InRelease\n",
            "Hit:12 http://ppa.launchpad.net/graphics-drivers/ppa/ubuntu bionic InRelease\n",
            "Fetched 261 kB in 3s (100 kB/s)\n",
            "Reading package lists... Done\n"
          ]
        }
      ],
      "source": [
        "import os\n",
        "# Find the latest version of spark 3.0  from http://www.apache.org/dist/spark/ and enter as the spark version\n",
        "# For example:\n",
        "spark_version = 'spark-3.3.1'\n",
        "#spark_version = 'spark-3.'\n",
        "os.environ['SPARK_VERSION']=spark_version\n",
        "\n",
        "# Install Spark and Java\n",
        "!apt-get update\n",
        "!apt-get install openjdk-8-jdk-headless -qq > /dev/null\n",
        "!wget -q https://downloads.apache.org/spark/spark-3.3.1/$SPARK_VERSION-bin-hadoop2.tgz\n",
        "!tar xf $SPARK_VERSION-bin-hadoop2.tgz\n",
        "!pip install -q findspark\n",
        "\n"
      ]
    },
    {
      "cell_type": "code",
      "execution_count": null,
      "metadata": {
        "id": "MgByAatuxiFz"
      },
      "outputs": [],
      "source": [
        "# Set Environment Variables\n",
        "import os\n",
        "os.environ[\"JAVA_HOME\"] = \"/usr/lib/jvm/java-8-openjdk-amd64\"\n",
        "os.environ[\"SPARK_HOME\"] = f\"/content/{spark_version}-bin-hadoop2\"\n",
        "\n",
        "# Start a SparkSession\n",
        "import findspark\n",
        "findspark.init()"
      ]
    },
    {
      "cell_type": "code",
      "execution_count": null,
      "metadata": {
        "colab": {
          "base_uri": "https://localhost:8080/"
        },
        "id": "x8q153bQ4vK9",
        "outputId": "32b0669b-98dc-4355-d527-ccaba306937e"
      },
      "outputs": [
        {
          "name": "stdout",
          "output_type": "stream",
          "text": [
            "--2022-11-17 18:22:57--  https://jdbc.postgresql.org/download/postgresql-42.2.9.jar\n",
            "Resolving jdbc.postgresql.org (jdbc.postgresql.org)... 72.32.157.228, 2001:4800:3e1:1::228\n",
            "Connecting to jdbc.postgresql.org (jdbc.postgresql.org)|72.32.157.228|:443... connected.\n",
            "HTTP request sent, awaiting response... 200 OK\n",
            "Length: 914037 (893K) [application/java-archive]\n",
            "Saving to: ‘postgresql-42.2.9.jar.1’\n",
            "\n",
            "postgresql-42.2.9.j 100%[===================>] 892.61K  5.72MB/s    in 0.2s    \n",
            "\n",
            "2022-11-17 18:22:58 (5.72 MB/s) - ‘postgresql-42.2.9.jar.1’ saved [914037/914037]\n",
            "\n"
          ]
        }
      ],
      "source": [
        "!wget https://jdbc.postgresql.org/download/postgresql-42.2.9.jar"
      ]
    },
    {
      "cell_type": "code",
      "execution_count": 85,
      "metadata": {
        "id": "__9KeoJY43nc"
      },
      "outputs": [],
      "source": [
        "from pyspark.sql import SparkSession\n",
        "spark = SparkSession.builder.appName(\"CloudETL\").config(\"spark.driver.extraClassPath\",\"/content/postgresql-42.2.9.jar\").getOrCreate()"
      ]
    },
    {
      "cell_type": "code",
      "execution_count": 86,
      "metadata": {
        "colab": {
          "base_uri": "https://localhost:8080/"
        },
        "id": "9u8dwrMT4-jk",
        "outputId": "dd629fc5-86fe-41f6-f996-d2283c5d36dc"
      },
      "outputs": [
        {
          "name": "stdout",
          "output_type": "stream",
          "text": [
            "+-----------+-----------+--------------+----------+--------------+--------------------+----------------+-----------+-------------+-----------+----+-----------------+--------------------+--------------------+-------------------+\n",
            "|marketplace|customer_id|     review_id|product_id|product_parent|       product_title|product_category|star_rating|helpful_votes|total_votes|vine|verified_purchase|     review_headline|         review_body|        review_date|\n",
            "+-----------+-----------+--------------+----------+--------------+--------------------+----------------+-----------+-------------+-----------+----+-----------------+--------------------+--------------------+-------------------+\n",
            "|         US|   27288431| R33UPQQUZQEM8|B005T4ND06|     400024643|Yoga for Movement...|       Video DVD|          5|            3|          3|   N|                Y|This was a gift f...|This was a gift f...|2015-08-31 00:00:00|\n",
            "|         US|   13722556|R3IKTNQQPD9662|B004EPZ070|     685335564|  Something Borrowed|       Video DVD|          5|            0|          0|   N|                Y|          Five Stars| Teats my heart out.|2015-08-31 00:00:00|\n",
            "|         US|   20381037|R3U27V5QMCP27T|B005S9EKCW|     922008804|Les Miserables (2...|       Video DVD|          5|            1|          1|   N|                Y|        Great movie!|        Great movie.|2015-08-31 00:00:00|\n",
            "|         US|   24852644|R2TOH2QKNK4IOC|B00FC1ZCB4|     326560548|Alien Anthology a...|       Video DVD|          5|            0|          1|   N|                Y|             Amazing|My husband was so...|2015-08-31 00:00:00|\n",
            "|         US|   15556113|R2XQG5NJ59UFMY|B002ZG98Z0|     637495038|  Sex and the City 2|       Video DVD|          5|            0|          0|   N|                Y|          Five Stars|   Love this series.|2015-08-31 00:00:00|\n",
            "|         US|    6132474|R1N1KHBRR4ZTX3|B00X8RONBO|     896602391|When Calls The He...|       Video DVD|          5|            0|          0|   N|                Y|          Five Stars|            love it!|2015-08-31 00:00:00|\n",
            "|         US|   48049524|R3OM9S0TCBP38K|B000CEXFZG|     115883890|Teen Titans - The...|       Video DVD|          5|            0|          0|   N|                Y|               Great|Better than the c...|2015-08-31 00:00:00|\n",
            "|         US|    3282516|R1W4S949ZRCTBW|B00ID8H8EW|     977932459|      Generation War|       Video DVD|          5|            0|          0|   N|                Y|          Five Stars|I really emjoyed ...|2015-08-31 00:00:00|\n",
            "|         US|   51771179|R18JL1NNQAZFV2|B000TGJ8IU|     840084782|Troy  (Director's...|       Video DVD|          5|            0|          0|   N|                Y|          Five Stars|Awesome movie, we...|2015-08-31 00:00:00|\n",
            "|         US|   31816501|R1LP6PR06OPYUX|B00DPMPTDS|     262144920|Faith Aka the Gre...|       Video DVD|          4|            0|          0|   N|                Y|a beautiful fanta...|...a beautiful fa...|2015-08-31 00:00:00|\n",
            "+-----------+-----------+--------------+----------+--------------+--------------------+----------------+-----------+-------------+-----------+----+-----------------+--------------------+--------------------+-------------------+\n",
            "only showing top 10 rows\n",
            "\n"
          ]
        }
      ],
      "source": [
        "from pyspark import SparkFiles\n",
        "# Load in data from S3 into a DataFrame\n",
        "url = \"https://s3.amazonaws.com/amazon-reviews-pds/tsv/amazon_reviews_us_Video_DVD_v1_00.tsv.gz\"\n",
        "spark.sparkContext.addFile(url)\n",
        "\n",
        "df = spark.read.option('header', 'true').csv(SparkFiles.get(\"amazon_reviews_us_Video_DVD_v1_00.tsv.gz\"), inferSchema=True, sep='\\t')\n",
        "df.show(10)"
      ]
    },
    {
      "cell_type": "code",
      "execution_count": 87,
      "metadata": {
        "colab": {
          "base_uri": "https://localhost:8080/"
        },
        "id": "HK6Ku1H55DfM",
        "outputId": "003bda68-bc51-4cb3-ee20-1b2bbe8c1dc8"
      },
      "outputs": [
        {
          "name": "stdout",
          "output_type": "stream",
          "text": [
            "5069140\n",
            "5068421\n"
          ]
        }
      ],
      "source": [
        "print(df.count())\n",
        "df =df.dropna();\n",
        "print(df.count())"
      ]
    },
    {
      "cell_type": "code",
      "execution_count": 88,
      "metadata": {
        "colab": {
          "base_uri": "https://localhost:8080/"
        },
        "id": "xubHFcMu7XqN",
        "outputId": "2d6b68f3-ffaf-4175-c1a3-5750dcadf43d"
      },
      "outputs": [
        {
          "name": "stdout",
          "output_type": "stream",
          "text": [
            "5068421\n",
            "5068421\n"
          ]
        }
      ],
      "source": [
        "print(df.count())\n",
        "df=df.drop_duplicates()\n",
        "print(df.count())"
      ]
    },
    {
      "cell_type": "code",
      "execution_count": 89,
      "metadata": {
        "colab": {
          "base_uri": "https://localhost:8080/"
        },
        "id": "N21nOzrq7ejM",
        "outputId": "c456a56b-a547-4810-e6ea-29a809b0d4ce"
      },
      "outputs": [
        {
          "name": "stdout",
          "output_type": "stream",
          "text": [
            "root\n",
            " |-- marketplace: string (nullable = true)\n",
            " |-- customer_id: integer (nullable = true)\n",
            " |-- review_id: string (nullable = true)\n",
            " |-- product_id: string (nullable = true)\n",
            " |-- product_parent: integer (nullable = true)\n",
            " |-- product_title: string (nullable = true)\n",
            " |-- product_category: string (nullable = true)\n",
            " |-- star_rating: integer (nullable = true)\n",
            " |-- helpful_votes: integer (nullable = true)\n",
            " |-- total_votes: integer (nullable = true)\n",
            " |-- vine: string (nullable = true)\n",
            " |-- verified_purchase: string (nullable = true)\n",
            " |-- review_headline: string (nullable = true)\n",
            " |-- review_body: string (nullable = true)\n",
            " |-- review_date: timestamp (nullable = true)\n",
            "\n"
          ]
        }
      ],
      "source": [
        "#examine the schema\n",
        "df.printSchema()"
      ]
    },
    {
      "cell_type": "code",
      "execution_count": 91,
      "metadata": {
        "id": "QCHY74PA8XYu"
      },
      "outputs": [],
      "source": [
        "#change format of review_date from string to date\n",
        "from pyspark.sql.functions import *\n",
        "from pyspark.sql.functions import col\n",
        "from pyspark.sql.types import StringType,BooleanType,DateType\n",
        "df =df.withColumn('review_date',col('review_date').cast(DateType()))"
      ]
    },
    {
      "cell_type": "code",
      "execution_count": 92,
      "metadata": {
        "colab": {
          "base_uri": "https://localhost:8080/"
        },
        "id": "8aViIBos8lhc",
        "outputId": "736f142b-eaf7-4227-db14-0983ad0a33fc"
      },
      "outputs": [
        {
          "name": "stdout",
          "output_type": "stream",
          "text": [
            "root\n",
            " |-- marketplace: string (nullable = true)\n",
            " |-- customer_id: integer (nullable = true)\n",
            " |-- review_id: string (nullable = true)\n",
            " |-- product_id: string (nullable = true)\n",
            " |-- product_parent: integer (nullable = true)\n",
            " |-- product_title: string (nullable = true)\n",
            " |-- product_category: string (nullable = true)\n",
            " |-- star_rating: integer (nullable = true)\n",
            " |-- helpful_votes: integer (nullable = true)\n",
            " |-- total_votes: integer (nullable = true)\n",
            " |-- vine: string (nullable = true)\n",
            " |-- verified_purchase: string (nullable = true)\n",
            " |-- review_headline: string (nullable = true)\n",
            " |-- review_body: string (nullable = true)\n",
            " |-- review_date: date (nullable = true)\n",
            "\n"
          ]
        }
      ],
      "source": [
        "df.printSchema()"
      ]
    },
    {
      "cell_type": "code",
      "execution_count": null,
      "metadata": {
        "id": "3i77n1OCAAdU"
      },
      "outputs": [],
      "source": [
        "# Create Table Dataframes"
      ]
    },
    {
      "cell_type": "code",
      "execution_count": 93,
      "metadata": {
        "colab": {
          "base_uri": "https://localhost:8080/"
        },
        "id": "Ji3H4qlr836k",
        "outputId": "ebed5ddc-ed71-49b5-e7ed-74ae0ba1ed2e"
      },
      "outputs": [
        {
          "name": "stdout",
          "output_type": "stream",
          "text": [
            "+--------------+-----------+----------+--------------+-----------+\n",
            "|     review_id|customer_id|product_id|product_parent|review_date|\n",
            "+--------------+-----------+----------+--------------+-----------+\n",
            "|R1001KXUA9YP4X|   46128922|B00005JNWM|      93901757| 2005-06-08|\n",
            "|R100DVELLPCTRN|   47061924|B002JUFPUE|     954468656| 2013-01-12|\n",
            "|R100G4QMGXGC0Q|   49837360|B00HTLDULE|     540427023| 2014-11-04|\n",
            "|R100L6085AB0OB|   35420271|B000212HCQ|     803561421| 2012-06-25|\n",
            "|R100NK6RFSMOIH|   52258312|B00004UD5U|     853619966| 2009-07-01|\n",
            "|R100PE4CFEKB3U|   49203858|B00009YXAW|     747270715| 2013-04-17|\n",
            "|R100WNGCZ1YI5H|   38185846|B00005YU1M|     439322915| 2004-04-18|\n",
            "|R100YEPR6VL1YB|   44403108|B0041KKYDI|     374170167| 2013-07-08|\n",
            "|R10142BBJEM8OG|   39317350|B0002B55BG|      55334409| 2013-09-02|\n",
            "|R10157LR18H0J8|   51217365|B00AZMFJYA|     645970389| 2013-12-20|\n",
            "|R101BMFPF9JP5J|   49918685|B0001MZ7J6|     343439830| 2011-04-02|\n",
            "|R101BYQJ30E5BF|   49862044|B00388PK1A|     875649142| 2013-01-18|\n",
            "|R101CVWPI4RYC7|   51931086|B00000JGHT|     362053340| 2009-06-22|\n",
            "|R101FLFZUI37D3|   11513682|B0046ZE3OE|     109624639| 2014-12-04|\n",
            "|R101W6TWQRE358|   29920452|B005OT810I|     316682194| 2013-04-19|\n",
            "|R101ZGLOVYLS5O|   50721872|B00008H2GS|     193484778| 2009-05-05|\n",
            "|R1023L0CDQJN3W|   17196460|B0013LL2Z2|      22614712| 2015-04-21|\n",
            "|R102LCID2ADR68|   30307235|B000KWZ1RU|      28493007| 2014-05-01|\n",
            "| R1032MOK6OY98|   43427847|B000QGE8IS|      22016116| 2010-06-20|\n",
            "|R1035XIIZPCDJF|   53091472|B000OPPBEQ|     898002855| 2008-12-18|\n",
            "+--------------+-----------+----------+--------------+-----------+\n",
            "only showing top 20 rows\n",
            "\n"
          ]
        }
      ],
      "source": [
        "review_id_df= df.select(['review_id','customer_id','product_id','product_parent','review_date'])\n",
        "review_id_df.show()"
      ]
    },
    {
      "cell_type": "code",
      "execution_count": 94,
      "metadata": {
        "colab": {
          "base_uri": "https://localhost:8080/"
        },
        "id": "QEO_eY1vACfU",
        "outputId": "76c36dba-9a43-4490-837a-00ecb9faaf0c"
      },
      "outputs": [
        {
          "name": "stdout",
          "output_type": "stream",
          "text": [
            "+----------+--------------------+\n",
            "|product_id|       product_title|\n",
            "+----------+--------------------+\n",
            "|B00005JNWM|               Crash|\n",
            "|B002JUFPUE|Dr. Seuss' How th...|\n",
            "|B00HTLDULE|CASINO ROYALE/QUA...|\n",
            "|B000212HCQ|Park BasiX: Zion ...|\n",
            "|B00004UD5U|                Flip|\n",
            "|B00009YXAW|The Brave Little ...|\n",
            "|B00005YU1M|      Monster's Ball|\n",
            "|B0041KKYDI|           127 Hours|\n",
            "|B0002B55BG|         The Passion|\n",
            "|B00AZMFJYA|Star Trek Into Da...|\n",
            "|B0001MZ7J6|Jonny Quest - The...|\n",
            "|B00388PK1A|The Wizard of Oz ...|\n",
            "|B00000JGHT|           Deathtrap|\n",
            "|B0046ZE3OE|Discover Tai Chi ...|\n",
            "|B005OT810I|          Nightbreed|\n",
            "|B00008H2GS|The White Sheik (...|\n",
            "|B0013LL2Z2|         Logan's Run|\n",
            "|B000KWZ1RU|     Soup of the Day|\n",
            "|B000QGE8IS|             Othello|\n",
            "|B000OPPBEQ|The Ultimate Matr...|\n",
            "+----------+--------------------+\n",
            "only showing top 20 rows\n",
            "\n"
          ]
        }
      ],
      "source": [
        "products_df = df.select(['product_id','product_title'])\n",
        "products_df.show()"
      ]
    },
    {
      "cell_type": "code",
      "execution_count": 95,
      "metadata": {
        "colab": {
          "base_uri": "https://localhost:8080/"
        },
        "id": "KlJlFOj2AQyV",
        "outputId": "a8287995-6052-4c95-bf2a-d3491d4db190"
      },
      "outputs": [
        {
          "name": "stdout",
          "output_type": "stream",
          "text": [
            "5068421\n",
            "297902\n"
          ]
        }
      ],
      "source": [
        "print(products_df.count())\n",
        "products_df=products_df.drop_duplicates()\n",
        "print(products_df.count())"
      ]
    },
    {
      "cell_type": "code",
      "execution_count": 96,
      "metadata": {
        "colab": {
          "base_uri": "https://localhost:8080/"
        },
        "id": "Y7kryZmTBeGE",
        "outputId": "c1223c0a-a098-4bc0-ea7b-f45f877c42fa"
      },
      "outputs": [
        {
          "data": {
            "text/plain": [
              "2075812"
            ]
          },
          "execution_count": 96,
          "metadata": {},
          "output_type": "execute_result"
        }
      ],
      "source": [
        "df.select(['customer_id']).distinct().count()"
      ]
    },
    {
      "cell_type": "code",
      "execution_count": 97,
      "metadata": {
        "id": "RFgyLxv3Beaj"
      },
      "outputs": [],
      "source": [
        "customers_df=df.groupby('customer_id').agg(count('customer_id').alias('customer_count'))"
      ]
    },
    {
      "cell_type": "code",
      "execution_count": 98,
      "metadata": {
        "colab": {
          "base_uri": "https://localhost:8080/"
        },
        "id": "Divnk19wBers",
        "outputId": "22ce661f-472f-4d30-8060-ebbf720c76c7"
      },
      "outputs": [
        {
          "name": "stdout",
          "output_type": "stream",
          "text": [
            "+-----------+--------------+\n",
            "|customer_id|customer_count|\n",
            "+-----------+--------------+\n",
            "|   35420271|             4|\n",
            "|   29631384|             2|\n",
            "|   11406322|             1|\n",
            "|   16431227|             1|\n",
            "|   24283512|            21|\n",
            "|   20449184|            16|\n",
            "|   52925615|            13|\n",
            "|   27217320|            10|\n",
            "|   50221281|             1|\n",
            "|   13713446|            74|\n",
            "|   12205680|             1|\n",
            "|    3863609|             1|\n",
            "|   51813840|             1|\n",
            "|   12616774|             2|\n",
            "|   25169471|             9|\n",
            "|   47379040|             7|\n",
            "|   50149916|             1|\n",
            "|   49414964|             1|\n",
            "|   13013055|             2|\n",
            "|   20880642|             9|\n",
            "+-----------+--------------+\n",
            "only showing top 20 rows\n",
            "\n"
          ]
        }
      ],
      "source": [
        "customers_df.show()"
      ]
    },
    {
      "cell_type": "code",
      "execution_count": 99,
      "metadata": {
        "colab": {
          "base_uri": "https://localhost:8080/"
        },
        "id": "XRJBnjPcBoB8",
        "outputId": "79cc05ae-49bd-4640-c911-3000f9823a2a"
      },
      "outputs": [
        {
          "name": "stdout",
          "output_type": "stream",
          "text": [
            "+--------------+-----------+-------------+-----------+----+\n",
            "|     review_id|star_rating|helpful_votes|total_votes|vine|\n",
            "+--------------+-----------+-------------+-----------+----+\n",
            "|R1001KXUA9YP4X|          4|            0|          2|   N|\n",
            "|R100DVELLPCTRN|          5|            0|          0|   N|\n",
            "|R100G4QMGXGC0Q|          5|            1|          1|   N|\n",
            "|R100L6085AB0OB|          5|            1|          1|   N|\n",
            "|R100NK6RFSMOIH|          2|            5|          7|   N|\n",
            "|R100PE4CFEKB3U|          5|            0|          0|   N|\n",
            "|R100WNGCZ1YI5H|          1|            6|         16|   N|\n",
            "|R100YEPR6VL1YB|          4|            0|          0|   N|\n",
            "|R10142BBJEM8OG|          5|            0|          0|   N|\n",
            "|R10157LR18H0J8|          5|            1|          4|   N|\n",
            "|R101BMFPF9JP5J|          5|            0|          0|   N|\n",
            "|R101BYQJ30E5BF|          5|            0|          1|   N|\n",
            "|R101CVWPI4RYC7|          5|            1|          2|   N|\n",
            "|R101FLFZUI37D3|          5|            0|          0|   N|\n",
            "|R101W6TWQRE358|          4|            0|          2|   N|\n",
            "|R101ZGLOVYLS5O|          4|            1|          1|   N|\n",
            "|R1023L0CDQJN3W|          5|            1|          3|   N|\n",
            "|R102LCID2ADR68|          4|            0|          0|   N|\n",
            "| R1032MOK6OY98|          4|            2|          2|   N|\n",
            "|R1035XIIZPCDJF|          3|            0|          8|   N|\n",
            "+--------------+-----------+-------------+-----------+----+\n",
            "only showing top 20 rows\n",
            "\n"
          ]
        }
      ],
      "source": [
        "vine_df = df.select(['review_id','star_rating','helpful_votes','total_votes','vine'])\n",
        "vine_df.show()"
      ]
    },
    {
      "cell_type": "code",
      "execution_count": 100,
      "metadata": {
        "id": "eZ9HBzAtAfv1"
      },
      "outputs": [],
      "source": [
        "# Load Dataframes into Postgres SQL DB\n"
      ]
    },
    {
      "cell_type": "code",
      "execution_count": 102,
      "metadata": {
        "id": "TfT90IB6uAEB"
      },
      "outputs": [],
      "source": [
        "# Configuration for RDS instance\n",
        "mode=\"append\"\n",
        "jdbc_url = \"jdbc:postgresql://:5432/postgres\"\n",
        "config = {\"user\":\"postgres\",\n",
        "          \"password\": \"postgres\",\n",
        "          \"driver\":\"org.postgresql.Driver\"}"
      ]
    },
    {
      "cell_type": "code",
      "execution_count": 103,
      "metadata": {
        "id": "2XEMmxVV4Y4C"
      },
      "outputs": [],
      "source": [
        "# Write DataFrame to table created above\n",
        "\n",
        "review_id_df.write.jdbc(url=jdbc_url, table='review_id_table', mode=mode, properties=config)"
      ]
    },
    {
      "cell_type": "code",
      "execution_count": 104,
      "metadata": {
        "id": "0kWZ4pQt7WBq"
      },
      "outputs": [],
      "source": [
        "# Write DataFrame to products table in RDS\n",
        "\n",
        "products_df.write.jdbc(url=jdbc_url, table='products', mode=mode, properties=config)"
      ]
    },
    {
      "cell_type": "code",
      "execution_count": 105,
      "metadata": {
        "id": "RvQYnJ0W70gR"
      },
      "outputs": [],
      "source": [
        "# Write DataFrame to customers table in RDS\n",
        "\n",
        "customers_df.write.jdbc(url=jdbc_url, table='customers', mode=mode, properties=config)"
      ]
    },
    {
      "cell_type": "code",
      "execution_count": 106,
      "metadata": {
        "id": "mdygG5lw731i"
      },
      "outputs": [],
      "source": [
        "# Write DataFrame to vine_table table in RDS\n",
        "\n",
        "vine_df.write.jdbc(url=jdbc_url, table='vine_table', mode=mode, properties=config)"
      ]
    }
  ],
  "metadata": {
    "colab": {
      "provenance": []
    },
    "kernelspec": {
      "display_name": "Python 3.10.4 64-bit",
      "language": "python",
      "name": "python3"
    },
    "language_info": {
      "name": "python",
      "version": "3.10.4"
    },
    "vscode": {
      "interpreter": {
        "hash": "b9a835786e4b292c706b02c5f0c0d04bbb49ad49fa1f9725076fb3ae007836b0"
      }
    }
  },
  "nbformat": 4,
  "nbformat_minor": 0
}
